{
 "cells": [
  {
   "cell_type": "code",
   "execution_count": 1,
   "metadata": {},
   "outputs": [],
   "source": [
    "from sqlalchemy import create_engine, inspect, MetaData, Table, Column, Integer, String, Float, Date, insert, func, select, delete\n",
    "import pandas as pd\n",
    "pd.set_option('display.width',None)\n",
    "pd.set_option('display.max_columns',None) \n",
    "\n",
    "import requests\n",
    "from datetime import datetime\n",
    "import csv\n",
    "from io import StringIO"
   ]
  },
  {
   "cell_type": "code",
   "execution_count": 2,
   "metadata": {},
   "outputs": [],
   "source": [
    "engine = create_engine('sqlite:///olympicsdata.sqlite')\n",
    "metadata = MetaData()"
   ]
  },
  {
   "cell_type": "code",
   "execution_count": 11,
   "metadata": {},
   "outputs": [
    {
     "name": "stdout",
     "output_type": "stream",
     "text": [
      "Data retrieved successfully for url https://assets.datacamp.com/production/repositories/3815/datasets/b68860c77542f92e108d5c09db510df7a3d28b03/athletes.csv.\n",
      "Data retrieved successfully for url https://assets.datacamp.com/production/repositories/3815/datasets/3f2822876f807bd2a430ff506712e79ba5ae48df/countries.csv.\n",
      "Data retrieved successfully for url https://assets.datacamp.com/production/repositories/3815/datasets/c6a559e920e509e6f0bcc66f5c278aaa38c95be8/winter_games.csv.\n"
     ]
    }
   ],
   "source": [
    "url_athletes = 'https://assets.datacamp.com/production/repositories/3815/datasets/b68860c77542f92e108d5c09db510df7a3d28b03/athletes.csv'\n",
    "url_wg_data = 'https://assets.datacamp.com/production/repositories/3815/datasets/c6a559e920e509e6f0bcc66f5c278aaa38c95be8/winter_games.csv'\n",
    "url_countries = 'https://assets.datacamp.com/production/repositories/3815/datasets/3f2822876f807bd2a430ff506712e79ba5ae48df/countries.csv'\n",
    "urls = [url_athletes,url_countries, url_wg_data]\n",
    "\n",
    "responses = []\n",
    "csv_files = []\n",
    "readers = []\n",
    "for index,url in enumerate(urls):\n",
    "    try:\n",
    "        response = requests.get(url)\n",
    "        response .raise_for_status()\n",
    "        csv_file = StringIO(response.text)\n",
    "        reader = csv.reader(csv_file)\n",
    "\n",
    "        responses.append(response)\n",
    "        csv_files.append(csv_file)\n",
    "        readers.append(reader)\n",
    "\n",
    "        print('Data retrieved successfully for url {}.'.format(url))\n",
    "    except requests.exceptions.RequestException as e:\n",
    "        print('Failed to retrieve data: ', e)"
   ]
  },
  {
   "cell_type": "code",
   "execution_count": 4,
   "metadata": {},
   "outputs": [
    {
     "name": "stdout",
     "output_type": "stream",
     "text": [
      "Printing data for https://assets.datacamp.com/production/repositories/3815/datasets/b68860c77542f92e108d5c09db510df7a3d28b03/athletes.csv\n",
      "   id                 name gender age height weight\n",
      "0  51    Nstor Abad Sanjun      M  23    167     64\n",
      "1  55  Antonio Abadia Beci      M  26    170     65\n",
      "\n",
      "\n",
      "Printing data for https://assets.datacamp.com/production/repositories/3815/datasets/3f2822876f807bd2a430ff506712e79ba5ae48df/countries.csv\n",
      "  id            country                               region\n",
      "0  1  AFG - Afghanistan        ASIA (EX. NEAR EAST)         \n",
      "1  2      ALB - Albania  EASTERN EUROPE                     \n",
      "\n",
      "\n",
      "Printing data for https://assets.datacamp.com/production/repositories/3815/datasets/c6a559e920e509e6f0bcc66f5c278aaa38c95be8/winter_games.csv\n",
      "           sport                          event        year athlete_id  \\\n",
      "0  Alpine Skiing   Alpine Skiing Women's Slalom  2014-01-01        126   \n",
      "1  Alpine Skiing  Alpine Skiing Women's Super G  2014-01-01        463   \n",
      "\n",
      "  country_id medal  \n",
      "0         89        \n",
      "1        102        \n",
      "\n",
      "\n"
     ]
    }
   ],
   "source": [
    "# See columns structure for each data source\n",
    "for reader,url in zip(readers,urls):\n",
    "    header = next(reader)\n",
    "    data = list(reader)\n",
    "    df = pd.DataFrame(data,columns=header)\n",
    "    print(f\"Printing data for {url}\")\n",
    "    print(df.head(2))\n",
    "    print('')\n",
    "    print('')"
   ]
  },
  {
   "cell_type": "code",
   "execution_count": 5,
   "metadata": {},
   "outputs": [],
   "source": [
    "metadata = MetaData()\n",
    "\n",
    "wintergames = Table('wintergames',\n",
    "                metadata,\n",
    "                Column('sport',String()),\n",
    "                Column('event',String()),\n",
    "                Column('year',Integer()),\n",
    "                Column('athlete_id',Integer()),                \n",
    "                Column('country_id',Integer()),\n",
    "                Column('medal',String(),default='gold')\n",
    ")\n",
    "\n",
    "countries = Table('countries',\n",
    "                metadata,\n",
    "                Column('id',Integer(), primary_key=True),\n",
    "                Column('country',String()),\n",
    "                Column('region',String())\n",
    ")\n",
    "\n",
    "athletes = Table('athletes',\n",
    "                metadata,\n",
    "                Column('id',Integer(), primary_key=True),\n",
    "                Column('name',String()),\n",
    "                Column('gender',String()),\n",
    "                Column('age',Integer()),\n",
    "                Column('height',Integer()),\n",
    "                Column('weigth',Integer())\n",
    ")\n",
    "\n",
    "metadata.create_all(engine)\n"
   ]
  },
  {
   "cell_type": "code",
   "execution_count": 6,
   "metadata": {},
   "outputs": [
    {
     "name": "stdout",
     "output_type": "stream",
     "text": [
      "Current tables in database:  ['athletes', 'countries', 'wintergames']\n",
      "Number of deleted rows for table athletes: 4215\n",
      "Number of deleted rows for table countries: 202\n",
      "Number of deleted rows for table wintergames: 2177\n"
     ]
    },
    {
     "name": "stderr",
     "output_type": "stream",
     "text": [
      "C:\\Users\\HP Probook\\AppData\\Local\\Temp\\ipykernel_17488\\1270427597.py:7: RemovedIn20Warning: Deprecated API features detected! These feature(s) are not compatible with SQLAlchemy 2.0. To prevent incompatible upgrades prior to updating applications, ensure requirements files are pinned to \"sqlalchemy<2.0\". Set environment variable SQLALCHEMY_WARN_20=1 to show all deprecation warnings.  Set environment variable SQLALCHEMY_SILENCE_UBER_WARNING=1 to silence this message. (Background on SQLAlchemy 2.0 at: https://sqlalche.me/e/b8d9)\n",
      "  tableObject = Table(table,metadata,autoload=engine)\n"
     ]
    }
   ],
   "source": [
    "#Cleaning of the tables\n",
    "current_tables = inspect(engine).get_table_names()\n",
    "print(\"Current tables in database: \", current_tables)\n",
    "\n",
    "conn = engine.connect()\n",
    "for table in current_tables:\n",
    "    tableObject = Table(table,metadata,autoload=engine)\n",
    "    result = engine.execute(delete(tableObject))\n",
    "    print(f\"Number of deleted rows for table {table}: {result.rowcount}\")"
   ]
  },
  {
   "cell_type": "code",
   "execution_count": 12,
   "metadata": {},
   "outputs": [
    {
     "name": "stdout",
     "output_type": "stream",
     "text": [
      "Number of rows inserted for table athletes: 4215\n",
      "Number of rows inserted for table countries: 202\n",
      "Number of rows inserted for table wintergames: 2177\n"
     ]
    }
   ],
   "source": [
    "# Populating tables \n",
    "values_insrt_athletes = []\n",
    "values_insrt_countries = []\n",
    "values_insrt_wintergames = []\n",
    "\n",
    "#Populating athletes\n",
    "next(readers[0]) \n",
    "next(readers[0])\n",
    "for row in readers[0]:\n",
    "    val_dict = {'id':row[0],\n",
    "                'name':row[1],\n",
    "                'gender': row[2],\n",
    "                'age':row[3],\n",
    "                'height':row[4],\n",
    "                'weigth':row[5]}\n",
    "    values_insrt_athletes.append(val_dict)\n",
    "\n",
    "# Populating countries table \n",
    "next(readers[1])\n",
    "next(readers[1])\n",
    "for row in readers[1]:\n",
    "    val_dict = {'id':row[0],\n",
    "                'country':row[1],\n",
    "                'region': row[2].strip()}\n",
    "    values_insrt_countries.append(val_dict)\n",
    "\n",
    "# Populating wintergames table \n",
    "# Skip the first two rows\n",
    "next(readers[2])  \n",
    "next(readers[2])\n",
    "for row in readers[2]:\n",
    "    val_dict = {'sport':row[0],\n",
    "                'event':row[1],\n",
    "                'year': datetime.strptime(row[2],'%Y-%m-%d').year,\n",
    "                'athlete_id':row[3],\n",
    "                'country_id':row[4],\n",
    "                'medal':row[5]}\n",
    "    values_insrt_wintergames.append(val_dict)\n",
    "\n",
    "insrt_stmts = [values_insrt_athletes, values_insrt_countries, values_insrt_wintergames]\n",
    "\n",
    "for tablename,insrt in zip(current_tables,insrt_stmts):\n",
    "    table = Table(tablename,metadata,autoload=engine)\n",
    "    result = conn.execute(insert(table,insrt))\n",
    "    print('Number of rows inserted for table {}: {}'.format(table,result.rowcount))"
   ]
  },
  {
   "cell_type": "code",
   "execution_count": 13,
   "metadata": {},
   "outputs": [
    {
     "name": "stdout",
     "output_type": "stream",
     "text": [
      "Number of rows in table athletes: 4215\n",
      "#########################################\n",
      "RMKeyView(['id', 'name', 'gender', 'age', 'height', 'weigth'])\n",
      "(55, 'Antonio Abadia Beci', 'M', 26, 170, 65)\n",
      "(110, 'Abubakar Abbas Abbas', 'M', 20, 175, 66)\n",
      "(126, 'Forough Abbasi', 'F', 20, 164, 58)\n",
      "(251, 'Bashir Abdi', 'M', 27, 176, 56)\n",
      "(273, 'Maizurah Abdul Rahim', 'F', 17, 147, 50)\n",
      "Number of rows in table countries: 202\n",
      "#########################################\n",
      "RMKeyView(['id', 'country', 'region'])\n",
      "(2, 'ALB - Albania', 'EASTERN EUROPE')\n",
      "(3, 'ALG - Algeria', 'NORTHERN AFRICA')\n",
      "(4, 'ASA - American Samoa', 'OCEANIA')\n",
      "(5, 'AND - Andorra', 'WESTERN EUROPE')\n",
      "(6, 'ANG - Angola', 'SUB-SAHARAN AFRICA')\n",
      "Number of rows in table wintergames: 2177\n",
      "#########################################\n",
      "RMKeyView(['sport', 'event', 'year', 'athlete_id', 'country_id', 'medal'])\n",
      "('Alpine Skiing', \"Alpine Skiing Women's Super G\", 2014, 463, 102, '')\n",
      "('Alpine Skiing', \"Alpine Skiing Women's Giant Slalom\", 2014, 463, 102, '')\n",
      "('Alpine Skiing', \"Alpine Skiing Women's Slalom\", 2014, 463, 102, '')\n",
      "('Alpine Skiing', \"Alpine Skiing Men's Giant Slalom\", 2014, 532, 70, '')\n",
      "('Alpine Skiing', \"Alpine Skiing Men's Slalom\", 2014, 532, 70, '')\n"
     ]
    }
   ],
   "source": [
    "conn = engine.connect()\n",
    "\n",
    "for tablename in current_tables:\n",
    "    table = Table(tablename,metadata,autoload=engine)\n",
    "    stmt = select([func.count()]).select_from(table)\n",
    "    countrows = conn.execute(stmt).scalar()\n",
    "    print(f'Number of rows in table {table}: {countrows}')\n",
    "    print('#########################################')\n",
    "\n",
    "    resultSet = conn.execute(select([table])).fetchall()\n",
    "    print(resultSet[0].keys())\n",
    "    for row in resultSet[:5]:\n",
    "        print(row)\n"
   ]
  }
 ],
 "metadata": {
  "kernelspec": {
   "display_name": "Python 3",
   "language": "python",
   "name": "python3"
  },
  "language_info": {
   "codemirror_mode": {
    "name": "ipython",
    "version": 3
   },
   "file_extension": ".py",
   "mimetype": "text/x-python",
   "name": "python",
   "nbconvert_exporter": "python",
   "pygments_lexer": "ipython3",
   "version": "3.11.3"
  }
 },
 "nbformat": 4,
 "nbformat_minor": 2
}

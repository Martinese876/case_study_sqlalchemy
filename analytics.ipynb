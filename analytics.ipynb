{
 "cells": [
  {
   "cell_type": "code",
   "execution_count": 34,
   "metadata": {},
   "outputs": [],
   "source": [
    "from sqlalchemy import create_engine, inspect, MetaData, Table, insert, func, select, delete, or_, and_\n",
    "import pandas as pd\n",
    "pd.set_option('display.width',None)\n",
    "pd.set_option('display.max_columns',None) \n",
    "import requests\n",
    "import logging\n",
    "from datetime import datetime\n",
    "\n",
    "logging.basicConfig(level=logging.ERROR)"
   ]
  },
  {
   "cell_type": "code",
   "execution_count": 11,
   "metadata": {},
   "outputs": [
    {
     "name": "stdout",
     "output_type": "stream",
     "text": [
      "FacadeDict({'athletes': Table('athletes', MetaData(), Column('id', INTEGER(), table=<athletes>), Column('name', VARCHAR(), table=<athletes>), Column('gender', VARCHAR(), table=<athletes>), Column('age', INTEGER(), table=<athletes>), Column('height', INTEGER(), table=<athletes>), Column('weigth', INTEGER(), table=<athletes>), schema=None), 'countries': Table('countries', MetaData(), Column('id', INTEGER(), table=<countries>), Column('country', VARCHAR(), table=<countries>), Column('region', VARCHAR(), table=<countries>), schema=None), 'wintergames': Table('wintergames', MetaData(), Column('sport', VARCHAR(), table=<wintergames>), Column('event', VARCHAR(), table=<wintergames>), Column('year', DATE(), table=<wintergames>), Column('athlete_id', INTEGER(), table=<wintergames>), Column('country_id', INTEGER(), table=<wintergames>), Column('medal', VARCHAR(), table=<wintergames>), schema=None)})\n"
     ]
    }
   ],
   "source": [
    "engine = create_engine('sqlite:///olympicsdata.sqlite')\n",
    "metadata = MetaData()\n",
    "metadata.reflect(bind=engine)\n",
    "print(metadata.tables)"
   ]
  },
  {
   "cell_type": "code",
   "execution_count": 12,
   "metadata": {},
   "outputs": [
    {
     "name": "stdout",
     "output_type": "stream",
     "text": [
      "['athletes', 'countries', 'wintergames']\n"
     ]
    }
   ],
   "source": [
    "print(inspect(engine).get_table_names())"
   ]
  },
  {
   "cell_type": "code",
   "execution_count": 13,
   "metadata": {},
   "outputs": [],
   "source": [
    "wintergames = metadata.tables.get('wintergames')\n",
    "athletes = metadata.tables.get('athletes')\n",
    "countries = metadata.tables.get('countries')"
   ]
  },
  {
   "cell_type": "code",
   "execution_count": 15,
   "metadata": {},
   "outputs": [
    {
     "name": "stdout",
     "output_type": "stream",
     "text": [
      "Distinct values in medal column are following:  ['', 'Bronze', 'Gold', 'Silver']\n"
     ]
    }
   ],
   "source": [
    "# Check how many distinct values in medal column of table wintergames exists\n",
    "with engine.connect() as conn:\n",
    "    stmt = select([wintergames.columns.medal.distinct()])\n",
    "    results = conn.execute(stmt)\n",
    "    distinct_values = [row[0] for row in results]\n",
    "    print(\"Distinct values in medal column are following: \", distinct_values)"
   ]
  },
  {
   "cell_type": "code",
   "execution_count": 27,
   "metadata": {},
   "outputs": [
    {
     "name": "stdout",
     "output_type": "stream",
     "text": [
      "Country: NOR - Norway, gold medals won: 13\n",
      "Country: SWE - Sweden, gold medals won: 8\n",
      "Country: RUS - Russia, gold medals won: 5\n",
      "Country: UKR - Ukraine, gold medals won: 4\n",
      "Country: SUI - Switzerland, gold medals won: 4\n"
     ]
    }
   ],
   "source": [
    "# Find top 5 countries which won the most Gold medals historically\n",
    "with engine.connect() as conn:\n",
    "    stmt = select([countries.c.country,func.count().label('gold_medal_count')]) \\\n",
    "            .select_from(wintergames.join(countries, wintergames.c.country_id == countries.c.id)) \\\n",
    "            .where(wintergames.c.medal == 'Gold') \\\n",
    "            .group_by(countries.c.country) \\\n",
    "            .order_by(func.count().desc()) \\\n",
    "            .limit(5)\n",
    "    results = conn.execute(stmt).fetchall()\n",
    "    for row in results:\n",
    "          print(f\"Country: {row['country']}, gold medals won: {row['gold_medal_count']}\")"
   ]
  },
  {
   "cell_type": "code",
   "execution_count": 31,
   "metadata": {},
   "outputs": [
    {
     "name": "stdout",
     "output_type": "stream",
     "text": [
      "Best male athlete Ondej Moravec has won 3 medals\n"
     ]
    }
   ],
   "source": [
    "# Find top male athlete with most won medals (gold, silver or bronze)\n",
    "with engine.connect() as conn:\n",
    "    stmt = select([athletes.c.name,func.count().label('total_medals_won')]) \\\n",
    "            .select_from(wintergames.join(athletes,wintergames.c.athlete_id == athletes.c.id)) \\\n",
    "            .where(and_(athletes.c.gender == 'M',wintergames.c.medal.in_(['Gold','Silver','Bronze']))) \\\n",
    "            .group_by(athletes.c.name) \\\n",
    "            .order_by(func.count().desc())\n",
    "    topmale = conn.execute(stmt).first()\n",
    "    print(f\"Best male athlete {topmale['name']} has won {topmale['total_medals_won']} medals\")"
   ]
  },
  {
   "cell_type": "code",
   "execution_count": 36,
   "metadata": {},
   "outputs": [
    {
     "name": "stdout",
     "output_type": "stream",
     "text": [
      "Total number of countries which won at least 1 medal: 18\n"
     ]
    }
   ],
   "source": [
    "# Find how many countries earned at least one medal\n",
    "with engine.connect() as conn:\n",
    "    stmt = select([func.count(wintergames.c.country_id.distinct())]) \\\n",
    "            .where(wintergames.c.medal.notin_(['']))\n",
    "    nbcountries = conn.execute(stmt).scalar()\n",
    "    print(f\"Total number of countries which won at least 1 medal: {nbcountries}\")"
   ]
  },
  {
   "cell_type": "code",
   "execution_count": 46,
   "metadata": {},
   "outputs": [
    {
     "name": "stdout",
     "output_type": "stream",
     "text": [
      "F: 75 percentage: 49.67%\n",
      "M: 76 percentage: 50.33%\n"
     ]
    }
   ],
   "source": [
    "# Percentage of medals won by men and women in database\n",
    "with engine.connect() as conn:\n",
    "    gender_stmt = select([athletes.c.gender,func.count(wintergames.c.medal).label('total_medals_won')]) \\\n",
    "            .select_from(wintergames.join(athletes, wintergames.c.athlete_id == athletes.c.id)) \\\n",
    "            .where(wintergames.c.medal.notin_([''])) \\\n",
    "            .group_by(athletes.c.gender)\n",
    "    resultsgender = conn.execute(gender_stmt).fetchall()\n",
    "    total_stmt = select([func.count(wintergames.c.medal).label('all_count')]).where(wintergames.c.medal.notin_(['']))\n",
    "    totalmedals = conn.execute(total_stmt).scalar()\n",
    "    for r in results:\n",
    "        gender = r[0]\n",
    "        medals_won = r[1]\n",
    "        percentage = (medals_won / totalmedals * 100)\n",
    "        print(f\"{gender}: {medals_won} percentage: {percentage:.2f}%\")"
   ]
  }
 ],
 "metadata": {
  "kernelspec": {
   "display_name": "Python 3",
   "language": "python",
   "name": "python3"
  },
  "language_info": {
   "codemirror_mode": {
    "name": "ipython",
    "version": 3
   },
   "file_extension": ".py",
   "mimetype": "text/x-python",
   "name": "python",
   "nbconvert_exporter": "python",
   "pygments_lexer": "ipython3",
   "version": "3.11.3"
  }
 },
 "nbformat": 4,
 "nbformat_minor": 2
}
